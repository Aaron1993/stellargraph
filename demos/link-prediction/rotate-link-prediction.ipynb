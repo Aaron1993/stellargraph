{
 "cells": [
  {
   "cell_type": "markdown",
   "metadata": {},
   "source": [
    "# Knowledge graph link prediction with RotatE\n"
   ]
  },
  {
   "cell_type": "markdown",
   "metadata": {
    "nbsphinx": "hidden",
    "tags": [
     "CloudRunner"
    ]
   },
   "source": [
    "<table><tr><td>Run the latest release of this notebook:</td><td><a href=\"https://mybinder.org/v2/gh/stellargraph/stellargraph/master?urlpath=lab/tree/demos/link-prediction/complex-link-prediction.ipynb\" alt=\"Open In Binder\" target=\"_parent\"><img src=\"https://mybinder.org/badge_logo.svg\"/></a></td><td><a href=\"https://colab.research.google.com/github/stellargraph/stellargraph/blob/master/demos/link-prediction/complex-link-prediction.ipynb\" alt=\"Open In Colab\" target=\"_parent\"><img src=\"https://colab.research.google.com/assets/colab-badge.svg\"/></a></td></tr></table>"
   ]
  },
  {
   "cell_type": "markdown",
   "metadata": {},
   "source": [
    "\n",
    "This notebook reproduces the experiments done in the paper [1] that introduced the RotatE algorithm.\n",
    "\n",
    "[1]Z. Sun, Z.-H. Deng, J.-Y. Nie, and J. Tang, “RotatE: Knowledge Graph Embedding by Relational Rotation in Complex Space,” [arXiv:1902.10197](http://arxiv.org/abs/1902.10197), Feb. 2019.\n",
    "\n",
    "In table 5, the paper reports several metrics measured on the WN18RR and FB15K-237 datasets including mean rank (MR), mean reciprocal rank (MRR) and Hits at {1, 3, 10}. This notebook measures all of these, as well as \"raw\" versions of each."
   ]
  },
  {
   "cell_type": "code",
   "execution_count": 1,
   "metadata": {
    "nbsphinx": "hidden",
    "tags": [
     "CloudRunner"
    ]
   },
   "outputs": [],
   "source": [
    "# install StellarGraph if running on Google Colab\n",
    "import sys\n",
    "if 'google.colab' in sys.modules:\n",
    "  %pip install -q stellargraph[demos]==1.2.0b"
   ]
  },
  {
   "cell_type": "code",
   "execution_count": 2,
   "metadata": {
    "nbsphinx": "hidden",
    "tags": [
     "VersionCheck"
    ]
   },
   "outputs": [],
   "source": [
    "# verify that we're using the correct version of StellarGraph for this notebook\n",
    "import stellargraph as sg\n",
    "\n",
    "try:\n",
    "    sg.utils.validate_notebook_version(\"1.2.0b\")\n",
    "except AttributeError:\n",
    "    raise ValueError(\n",
    "        f\"This notebook requires StellarGraph version 1.2.0b, but a different version {sg.__version__} is installed.  Please see <https://github.com/stellargraph/stellargraph/issues/1172>.\"\n",
    "    ) from None"
   ]
  },
  {
   "cell_type": "code",
   "execution_count": 3,
   "metadata": {},
   "outputs": [],
   "source": [
    "from stellargraph import datasets, utils\n",
    "from tensorflow.keras import callbacks, optimizers, losses, metrics, regularizers, Model\n",
    "import numpy as np\n",
    "import pandas as pd\n",
    "\n",
    "from stellargraph.mapper import KGTripleGenerator\n",
    "from stellargraph.layer import RotatE\n",
    "\n",
    "from IPython.display import HTML"
   ]
  },
  {
   "cell_type": "markdown",
   "metadata": {},
   "source": [
    "## Initialisation\n",
    "\n",
    "We need to set up our model parameters, like the number of epochs to train for, and the dimension of the embedding vectors we compute for each node and for each edge type.\n",
    "\n",
    "The evaluation is performed in three steps:\n",
    "\n",
    "1. Load the data\n",
    "2. Train a model\n",
    "3. Evaluate the model\n",
    "\n",
    "The [reference implementation](https://github.com/DeepGraphLearning/KnowledgeGraphEmbedding) uses:\n",
    "- ..."
   ]
  },
  {
   "cell_type": "code",
   "execution_count": 4,
   "metadata": {
    "tags": [
     "parameters"
    ]
   },
   "outputs": [],
   "source": [
    "epochs = 50\n",
    "embedding_dimension = 500\n",
    "negative_samples = 16"
   ]
  },
  {
   "cell_type": "markdown",
   "metadata": {},
   "source": [
    "## WN18RR\n",
    "\n",
    "The paper uses the WN18RR and FB15k-237 datasets for validation. These datasets are improved versions of the WN18 and FB15k versions: those old versions contain \"inverse relations\", where `(s, r1, o)` implies `(o, r2, s)` for a pair of relation types `r1` and `r2` (for instance, `_hyponym` (\"is more specific than\") and `_hypernym` (\"is more general than\") in WN18).\n",
    "\n",
    "### Load the data\n",
    "\n",
    "The dataset comes with a defined train, test and validation split, each consisting of subject, relation, object triples. We can load a `StellarGraph` object with all of the triples, as well as the individual splits as Pandas DataFrames, using the `load` method of the `WN18` dataset."
   ]
  },
  {
   "cell_type": "markdown",
   "metadata": {
    "tags": [
     "DataLoadingLinks"
    ]
   },
   "source": [
    "(See [the \"Loading from Pandas\" demo](../basics/loading-pandas.ipynb) for details on how data can be loaded.)"
   ]
  },
  {
   "cell_type": "code",
   "execution_count": 35,
   "metadata": {
    "tags": [
     "DataLoading"
    ]
   },
   "outputs": [
    {
     "data": {
      "text/html": [
       "The WN18RR dataset consists of triplets from WordNet 3.0 (http://wordnet.princeton.edu). There are 40,943 synsets and 11 relation types among them. The training set contains 86835 triplets, the validation set 3034 and the test set 3134. It is a reduced version of WN18 where inverse relations have been removed.Tim Dettmers, Pasquale Minervini, Pontus Stenetorp and Sebastian Riedel “Convolutional 2D Knowledge Graph Embeddings” (2017)."
      ],
      "text/plain": [
       "<IPython.core.display.HTML object>"
      ]
     },
     "metadata": {},
     "output_type": "display_data"
    }
   ],
   "source": [
    "wn18rr = datasets.WN18RR()\n",
    "display(HTML(wn18rr.description))\n",
    "wn18rr_graph, wn18rr_train, wn18rr_test, wn18rr_valid = wn18rr.load()"
   ]
  },
  {
   "cell_type": "code",
   "execution_count": 36,
   "metadata": {},
   "outputs": [
    {
     "name": "stdout",
     "output_type": "stream",
     "text": [
      "StellarDiGraph: Directed multigraph\n",
      " Nodes: 40943, Edges: 93003\n",
      "\n",
      " Node types:\n",
      "  default: [40943]\n",
      "    Features: none\n",
      "    Edge types: default-_also_see->default, default-_derivationally_related_form->default, default-_has_part->default, default-_hypernym->default, default-_instance_hypernym->default, ... (6 more)\n",
      "\n",
      " Edge types:\n",
      "    default-_hypernym->default: [37221]\n",
      "        Weights: all 1 (default)\n",
      "        Features: none\n",
      "    default-_derivationally_related_form->default: [31867]\n",
      "        Weights: all 1 (default)\n",
      "        Features: none\n",
      "    default-_member_meronym->default: [7928]\n",
      "        Weights: all 1 (default)\n",
      "        Features: none\n",
      "    default-_has_part->default: [5142]\n",
      "        Weights: all 1 (default)\n",
      "        Features: none\n",
      "    default-_synset_domain_topic_of->default: [3335]\n",
      "        Weights: all 1 (default)\n",
      "        Features: none\n",
      "    default-_instance_hypernym->default: [3150]\n",
      "        Weights: all 1 (default)\n",
      "        Features: none\n",
      "    default-_also_see->default: [1396]\n",
      "        Weights: all 1 (default)\n",
      "        Features: none\n",
      "    default-_verb_group->default: [1220]\n",
      "        Weights: all 1 (default)\n",
      "        Features: none\n",
      "    default-_member_of_domain_region->default: [983]\n",
      "        Weights: all 1 (default)\n",
      "        Features: none\n",
      "    default-_member_of_domain_usage->default: [675]\n",
      "        Weights: all 1 (default)\n",
      "        Features: none\n",
      "    default-_similar_to->default: [86]\n",
      "        Weights: all 1 (default)\n",
      "        Features: none\n"
     ]
    }
   ],
   "source": [
    "print(wn18rr_graph.info())"
   ]
  },
  {
   "cell_type": "markdown",
   "metadata": {},
   "source": [
    "### Train a model\n",
    "\n",
    "The RotatE algorithm consists of some embedding layers and a scoring layer, but the `RotatE` object means these details are invisible to us. The `RotatE` model consumes \"knowledge-graph triples\", which can be produced in the appropriate format using `KGTripleGenerator`."
   ]
  },
  {
   "cell_type": "code",
   "execution_count": 37,
   "metadata": {},
   "outputs": [
    {
     "name": "stderr",
     "output_type": "stream",
     "text": [
      "/Users/wil9dw/.pyenv/versions/sg/lib/python3.6/site-packages/ipykernel/__main__.py:5: ExperimentalWarning: RotatE is experimental: demo and documentation is missing (see: https://github.com/stellargraph/stellargraph/issues/1549, https://github.com/stellargraph/stellargraph/issues/1550). It may be difficult to use and may have major changes at any time.\n"
     ]
    }
   ],
   "source": [
    "wn18rr_gen = KGTripleGenerator(wn18rr_graph, batch_size=512)\n",
    "\n",
    "wn18rr_rotate = RotatE(\n",
    "    wn18rr_gen,\n",
    "    embedding_dimension=embedding_dimension,\n",
    ")\n",
    "\n",
    "wn18rr_inp, wn18rr_out = wn18rr_rotate.in_out_tensors()\n",
    "\n",
    "wn18rr_model = Model(inputs=wn18rr_inp, outputs=wn18rr_out)\n",
    "\n",
    "wn18rr_model.compile(\n",
    "    optimizer=optimizers.Adam(lr=0.001),\n",
    "    loss=losses.BinaryCrossentropy(from_logits=True),\n",
    "    metrics=[metrics.BinaryAccuracy(threshold=0.0)],\n",
    ")"
   ]
  },
  {
   "cell_type": "markdown",
   "metadata": {},
   "source": [
    "Inputs for training are produced by calling the `KGTripleGenerator.flow` method, this takes a dataframe with `source`, `label` and `target` columns, where each row is a true edge in the knowledge graph.  The `negative_samples` parameter controls how many random edges are created for each positive edge to use as negative examples for training."
   ]
  },
  {
   "cell_type": "code",
   "execution_count": 38,
   "metadata": {},
   "outputs": [],
   "source": [
    "wn18rr_train_gen = wn18rr_gen.flow(\n",
    "    wn18rr_train, negative_samples=negative_samples, shuffle=True\n",
    ")\n",
    "wn18rr_valid_gen = wn18rr_gen.flow(wn18rr_valid, negative_samples=negative_samples)"
   ]
  },
  {
   "cell_type": "code",
   "execution_count": 39,
   "metadata": {},
   "outputs": [
    {
     "name": "stdout",
     "output_type": "stream",
     "text": [
      "Epoch 1/50\n",
      "170/170 [==============================] - 91s 536ms/step - loss: 8.4228 - binary_accuracy: 0.0588 - val_loss: 7.5773 - val_binary_accuracy: 0.0588\n",
      "Epoch 2/50\n",
      "170/170 [==============================] - 90s 530ms/step - loss: 6.7076 - binary_accuracy: 0.0589 - val_loss: 5.8042 - val_binary_accuracy: 0.0591\n",
      "Epoch 3/50\n",
      "170/170 [==============================] - 87s 511ms/step - loss: 4.9390 - binary_accuracy: 0.0775 - val_loss: 4.1142 - val_binary_accuracy: 0.0933\n",
      "Epoch 4/50\n",
      "170/170 [==============================] - 87s 509ms/step - loss: 3.3180 - binary_accuracy: 0.1102 - val_loss: 2.6121 - val_binary_accuracy: 0.1297\n",
      "Epoch 5/50\n",
      "170/170 [==============================] - 83s 488ms/step - loss: 1.9696 - binary_accuracy: 0.1684 - val_loss: 1.4654 - val_binary_accuracy: 0.2133\n",
      "Epoch 6/50\n",
      "170/170 [==============================] - 80s 470ms/step - loss: 1.0686 - binary_accuracy: 0.3241 - val_loss: 0.7952 - val_binary_accuracy: 0.4407\n",
      "Epoch 7/50\n",
      "170/170 [==============================] - 81s 474ms/step - loss: 0.6070 - binary_accuracy: 0.6442 - val_loss: 0.4900 - val_binary_accuracy: 0.8045\n",
      "Epoch 8/50\n",
      "170/170 [==============================] - 80s 472ms/step - loss: 0.4059 - binary_accuracy: 0.8983 - val_loss: 0.3583 - val_binary_accuracy: 0.9351\n",
      "Epoch 9/50\n",
      "170/170 [==============================] - 80s 474ms/step - loss: 0.3171 - binary_accuracy: 0.9400 - val_loss: 0.2960 - val_binary_accuracy: 0.9412\n",
      "Epoch 10/50\n",
      "170/170 [==============================] - 81s 475ms/step - loss: 0.2726 - binary_accuracy: 0.9411 - val_loss: 0.2645 - val_binary_accuracy: 0.9412\n",
      "Epoch 11/50\n",
      "170/170 [==============================] - 82s 484ms/step - loss: 0.2471 - binary_accuracy: 0.9412 - val_loss: 0.2463 - val_binary_accuracy: 0.9412\n",
      "Epoch 12/50\n",
      "170/170 [==============================] - 84s 494ms/step - loss: 0.2308 - binary_accuracy: 0.9412 - val_loss: 0.2348 - val_binary_accuracy: 0.9412\n",
      "Epoch 13/50\n",
      "170/170 [==============================] - 82s 483ms/step - loss: 0.2188 - binary_accuracy: 0.9412 - val_loss: 0.2275 - val_binary_accuracy: 0.9412\n",
      "Epoch 14/50\n",
      "170/170 [==============================] - 81s 475ms/step - loss: 0.2092 - binary_accuracy: 0.9412 - val_loss: 0.2219 - val_binary_accuracy: 0.9412\n",
      "Epoch 15/50\n",
      "170/170 [==============================] - 82s 479ms/step - loss: 0.2011 - binary_accuracy: 0.9412 - val_loss: 0.2181 - val_binary_accuracy: 0.9412\n",
      "Epoch 16/50\n",
      "170/170 [==============================] - 82s 480ms/step - loss: 0.1937 - binary_accuracy: 0.9412 - val_loss: 0.2148 - val_binary_accuracy: 0.9412\n",
      "Epoch 17/50\n",
      "170/170 [==============================] - 81s 479ms/step - loss: 0.1869 - binary_accuracy: 0.9412 - val_loss: 0.2122 - val_binary_accuracy: 0.9412\n",
      "Epoch 18/50\n",
      "170/170 [==============================] - 81s 479ms/step - loss: 0.1803 - binary_accuracy: 0.9412 - val_loss: 0.2102 - val_binary_accuracy: 0.9412\n",
      "Epoch 19/50\n",
      "170/170 [==============================] - 82s 482ms/step - loss: 0.1737 - binary_accuracy: 0.9412 - val_loss: 0.2083 - val_binary_accuracy: 0.9412\n",
      "Epoch 20/50\n",
      "170/170 [==============================] - 81s 477ms/step - loss: 0.1673 - binary_accuracy: 0.9412 - val_loss: 0.2064 - val_binary_accuracy: 0.9412\n",
      "Epoch 21/50\n",
      "170/170 [==============================] - 81s 475ms/step - loss: 0.1607 - binary_accuracy: 0.9412 - val_loss: 0.2047 - val_binary_accuracy: 0.9412\n",
      "Epoch 22/50\n",
      "170/170 [==============================] - 82s 480ms/step - loss: 0.1543 - binary_accuracy: 0.9412 - val_loss: 0.2030 - val_binary_accuracy: 0.9412\n",
      "Epoch 23/50\n",
      "170/170 [==============================] - 81s 479ms/step - loss: 0.1479 - binary_accuracy: 0.9412 - val_loss: 0.2013 - val_binary_accuracy: 0.9412\n",
      "Epoch 24/50\n",
      "170/170 [==============================] - 81s 479ms/step - loss: 0.1413 - binary_accuracy: 0.9412 - val_loss: 0.1998 - val_binary_accuracy: 0.9412\n",
      "Epoch 25/50\n",
      "170/170 [==============================] - 82s 485ms/step - loss: 0.1349 - binary_accuracy: 0.9413 - val_loss: 0.1981 - val_binary_accuracy: 0.9412\n",
      "Epoch 26/50\n",
      "170/170 [==============================] - 82s 482ms/step - loss: 0.1285 - binary_accuracy: 0.9418 - val_loss: 0.1963 - val_binary_accuracy: 0.9412\n",
      "Epoch 27/50\n",
      "170/170 [==============================] - 81s 474ms/step - loss: 0.1221 - binary_accuracy: 0.9438 - val_loss: 0.1950 - val_binary_accuracy: 0.9412\n",
      "Epoch 28/50\n",
      "170/170 [==============================] - 80s 470ms/step - loss: 0.1160 - binary_accuracy: 0.9478 - val_loss: 0.1935 - val_binary_accuracy: 0.9412\n",
      "Epoch 29/50\n",
      "170/170 [==============================] - 80s 468ms/step - loss: 0.1100 - binary_accuracy: 0.9525 - val_loss: 0.1914 - val_binary_accuracy: 0.9413\n",
      "Epoch 30/50\n",
      "170/170 [==============================] - 79s 468ms/step - loss: 0.1043 - binary_accuracy: 0.9564 - val_loss: 0.1900 - val_binary_accuracy: 0.9413\n",
      "Epoch 31/50\n",
      "170/170 [==============================] - 80s 471ms/step - loss: 0.0986 - binary_accuracy: 0.9588 - val_loss: 0.1882 - val_binary_accuracy: 0.9413\n",
      "Epoch 32/50\n",
      "170/170 [==============================] - 82s 480ms/step - loss: 0.0933 - binary_accuracy: 0.9601 - val_loss: 0.1871 - val_binary_accuracy: 0.9414\n",
      "Epoch 33/50\n",
      "170/170 [==============================] - 81s 478ms/step - loss: 0.0881 - binary_accuracy: 0.9608 - val_loss: 0.1856 - val_binary_accuracy: 0.9418\n",
      "Epoch 34/50\n",
      "170/170 [==============================] - 79s 466ms/step - loss: 0.0832 - binary_accuracy: 0.9614 - val_loss: 0.1846 - val_binary_accuracy: 0.9424\n",
      "Epoch 35/50\n",
      "170/170 [==============================] - 77s 455ms/step - loss: 0.0786 - binary_accuracy: 0.9620 - val_loss: 0.1835 - val_binary_accuracy: 0.9433\n",
      "Epoch 36/50\n",
      "170/170 [==============================] - 78s 457ms/step - loss: 0.0743 - binary_accuracy: 0.9631 - val_loss: 0.1828 - val_binary_accuracy: 0.9448\n",
      "Epoch 37/50\n",
      "170/170 [==============================] - 78s 458ms/step - loss: 0.0702 - binary_accuracy: 0.9650 - val_loss: 0.1817 - val_binary_accuracy: 0.9466\n",
      "Epoch 38/50\n",
      "170/170 [==============================] - 77s 451ms/step - loss: 0.0663 - binary_accuracy: 0.9678 - val_loss: 0.1814 - val_binary_accuracy: 0.9486\n",
      "Epoch 39/50\n",
      "170/170 [==============================] - 77s 455ms/step - loss: 0.0628 - binary_accuracy: 0.9709 - val_loss: 0.1800 - val_binary_accuracy: 0.9505\n",
      "Epoch 40/50\n",
      "170/170 [==============================] - 78s 459ms/step - loss: 0.0594 - binary_accuracy: 0.9740 - val_loss: 0.1800 - val_binary_accuracy: 0.9528\n",
      "Epoch 41/50\n",
      "170/170 [==============================] - 78s 457ms/step - loss: 0.0563 - binary_accuracy: 0.9769 - val_loss: 0.1794 - val_binary_accuracy: 0.9548\n",
      "Epoch 42/50\n",
      "170/170 [==============================] - 79s 463ms/step - loss: 0.0534 - binary_accuracy: 0.9796 - val_loss: 0.1786 - val_binary_accuracy: 0.9565\n",
      "Epoch 43/50\n",
      "170/170 [==============================] - 78s 458ms/step - loss: 0.0506 - binary_accuracy: 0.9821 - val_loss: 0.1788 - val_binary_accuracy: 0.9577\n",
      "Epoch 44/50\n",
      "170/170 [==============================] - 76s 450ms/step - loss: 0.0480 - binary_accuracy: 0.9844 - val_loss: 0.1780 - val_binary_accuracy: 0.9590\n",
      "Epoch 45/50\n",
      "170/170 [==============================] - 78s 458ms/step - loss: 0.0457 - binary_accuracy: 0.9864 - val_loss: 0.1783 - val_binary_accuracy: 0.9596\n",
      "Epoch 46/50\n",
      "170/170 [==============================] - 78s 458ms/step - loss: 0.0435 - binary_accuracy: 0.9883 - val_loss: 0.1780 - val_binary_accuracy: 0.9604\n",
      "Epoch 47/50\n",
      "170/170 [==============================] - 77s 454ms/step - loss: 0.0415 - binary_accuracy: 0.9899 - val_loss: 0.1786 - val_binary_accuracy: 0.9608\n",
      "Epoch 48/50\n",
      "170/170 [==============================] - 77s 454ms/step - loss: 0.0395 - binary_accuracy: 0.9915 - val_loss: 0.1782 - val_binary_accuracy: 0.9610\n",
      "Epoch 49/50\n",
      "170/170 [==============================] - 77s 454ms/step - loss: 0.0376 - binary_accuracy: 0.9928 - val_loss: 0.1780 - val_binary_accuracy: 0.9611\n",
      "Epoch 50/50\n",
      "170/170 [==============================] - 77s 453ms/step - loss: 0.0359 - binary_accuracy: 0.9939 - val_loss: 0.1781 - val_binary_accuracy: 0.9613\n"
     ]
    }
   ],
   "source": [
    "wn18rr_es = callbacks.EarlyStopping(monitor=\"val_loss\", patience=10)\n",
    "wn18rr_history = wn18rr_model.fit(\n",
    "    wn18rr_train_gen, validation_data=wn18rr_valid_gen, epochs=epochs, callbacks=[wn18rr_es]\n",
    ")"
   ]
  },
  {
   "cell_type": "code",
   "execution_count": 40,
   "metadata": {},
   "outputs": [
    {
     "data": {
      "image/png": "[encoded data removed]",
      "text/plain": [
       "<Figure size 504x576 with 2 Axes>"
      ]
     },
     "metadata": {
      "needs_background": "light"
     },
     "output_type": "display_data"
    }
   ],
   "source": [
    "utils.plot_history(wn18rr_history)"
   ]
  },
  {
   "cell_type": "markdown",
   "metadata": {},
   "source": [
    "### Evaluate the model\n",
    "\n",
    "We've now trained a model, so we can apply the evaluation procedure from the paper to it. This is done by taking each test edge `E = (s, r, o)`, and scoring it against all mutations `(s, r, n)` and `(n, r, o)` for every node `n` in the graph, that is, doing a prediction for every one of these edges similar to `E`. The \"raw\" rank is the number of mutated edges that have a higher predicted score than the true `E`."
   ]
  },
  {
   "cell_type": "code",
   "execution_count": 41,
   "metadata": {},
   "outputs": [],
   "source": [
    "wn18rr_raw_ranks, wn18rr_filtered_ranks = wn18rr_complex.rank_edges_against_all_nodes(\n",
    "    wn18rr_gen.flow(wn18rr_test), wn18rr_graph\n",
    ")"
   ]
  },
  {
   "cell_type": "code",
   "execution_count": 5,
   "metadata": {},
   "outputs": [],
   "source": [
    "# helper function to compute metrics from a dictionary of name -> array of ranks\n",
    "def results_as_dataframe(name_to_results):\n",
    "    return pd.DataFrame(\n",
    "        name_to_results.values(),\n",
    "        columns=[\"MR\", \"MRR\", \"hits at 1\", \"hits at 3\", \"hits at 10\"],\n",
    "        index=name_to_results.keys(),\n",
    "    )\n",
    "\n",
    "\n",
    "def summarise(name_to_ranks):\n",
    "    return results_as_dataframe(\n",
    "        {\n",
    "            name: (\n",
    "                np.mean(ranks),\n",
    "                np.mean(1 / ranks),\n",
    "                np.mean(ranks <= 1),\n",
    "                np.mean(ranks < 3),\n",
    "                np.mean(ranks <= 10),\n",
    "            )\n",
    "            for name, ranks in name_to_ranks.items()\n",
    "        }\n",
    "    )"
   ]
  },
  {
   "cell_type": "code",
   "execution_count": 43,
   "metadata": {},
   "outputs": [
    {
     "data": {
      "text/html": [
       "<div>\n",
       "<style scoped>\n",
       "    .dataframe tbody tr th:only-of-type {\n",
       "        vertical-align: middle;\n",
       "    }\n",
       "\n",
       "    .dataframe tbody tr th {\n",
       "        vertical-align: top;\n",
       "    }\n",
       "\n",
       "    .dataframe thead th {\n",
       "        text-align: right;\n",
       "    }\n",
       "</style>\n",
       "<table border=\"1\" class=\"dataframe\">\n",
       "  <thead>\n",
       "    <tr style=\"text-align: right;\">\n",
       "      <th></th>\n",
       "      <th>MR</th>\n",
       "      <th>MRR</th>\n",
       "      <th>hits at 1</th>\n",
       "      <th>hits at 3</th>\n",
       "      <th>hits at 10</th>\n",
       "    </tr>\n",
       "  </thead>\n",
       "  <tbody>\n",
       "    <tr>\n",
       "      <th>raw</th>\n",
       "      <td>20385.378430</td>\n",
       "      <td>0.000303</td>\n",
       "      <td>0.0</td>\n",
       "      <td>0.00016</td>\n",
       "      <td>0.00016</td>\n",
       "    </tr>\n",
       "    <tr>\n",
       "      <th>filtered</th>\n",
       "      <td>20378.079132</td>\n",
       "      <td>0.000303</td>\n",
       "      <td>0.0</td>\n",
       "      <td>0.00016</td>\n",
       "      <td>0.00016</td>\n",
       "    </tr>\n",
       "  </tbody>\n",
       "</table>\n",
       "</div>"
      ],
      "text/plain": [
       "                    MR       MRR  hits at 1  hits at 3  hits at 10\n",
       "raw       20385.378430  0.000303        0.0    0.00016     0.00016\n",
       "filtered  20378.079132  0.000303        0.0    0.00016     0.00016"
      ]
     },
     "execution_count": 43,
     "metadata": {},
     "output_type": "execute_result"
    }
   ],
   "source": [
    "summarise({\"raw\": wn18rr_raw_ranks, \"filtered\": wn18rr_filtered_ranks})"
   ]
  },
  {
   "cell_type": "markdown",
   "metadata": {},
   "source": [
    "For comparison, Table 5 in the paper gives the following results for WN18RR. All of the numbers are similar:"
   ]
  },
  {
   "cell_type": "code",
   "execution_count": 44,
   "metadata": {},
   "outputs": [
    {
     "data": {
      "text/html": [
       "<div>\n",
       "<style scoped>\n",
       "    .dataframe tbody tr th:only-of-type {\n",
       "        vertical-align: middle;\n",
       "    }\n",
       "\n",
       "    .dataframe tbody tr th {\n",
       "        vertical-align: top;\n",
       "    }\n",
       "\n",
       "    .dataframe thead th {\n",
       "        text-align: right;\n",
       "    }\n",
       "</style>\n",
       "<table border=\"1\" class=\"dataframe\">\n",
       "  <thead>\n",
       "    <tr style=\"text-align: right;\">\n",
       "      <th></th>\n",
       "      <th>MR</th>\n",
       "      <th>MRR</th>\n",
       "      <th>hits at 1</th>\n",
       "      <th>hits at 3</th>\n",
       "      <th>hits at 10</th>\n",
       "    </tr>\n",
       "  </thead>\n",
       "  <tbody>\n",
       "    <tr>\n",
       "      <th>filtered</th>\n",
       "      <td>3340</td>\n",
       "      <td>0.476</td>\n",
       "      <td>0.428</td>\n",
       "      <td>0.492</td>\n",
       "      <td>0.571</td>\n",
       "    </tr>\n",
       "  </tbody>\n",
       "</table>\n",
       "</div>"
      ],
      "text/plain": [
       "            MR    MRR  hits at 1  hits at 3  hits at 10\n",
       "filtered  3340  0.476      0.428      0.492       0.571"
      ]
     },
     "execution_count": 44,
     "metadata": {},
     "output_type": "execute_result"
    }
   ],
   "source": [
    "results_as_dataframe(\n",
    "    {\"filtered\": (3340, 0.476, 0.428, 0.492, 0.571)}\n",
    ")"
   ]
  },
  {
   "cell_type": "markdown",
   "metadata": {},
   "source": [
    "## FB15k-237\n",
    "\n",
    "Now that we know the process, we can apply the model on the FB15k-237 dataset in the same way.\n",
    "\n",
    "### Loading the data"
   ]
  },
  {
   "cell_type": "code",
   "execution_count": 7,
   "metadata": {
    "tags": [
     "DataLoading"
    ]
   },
   "outputs": [
    {
     "data": {
      "text/html": [
       "This FREEBASE FB15k DATA consists of a collection of triplets (synset, relation_type, triplet)extracted from Freebase (http://www.freebase.com). There are 14541 nodes and 237 relation types among them. The training set contains 272115 triplets, the validation set 17535 and the test set 20466.It is a reduced version of FB15k where inverse relations have been removed.Kristina Toutanova and Danqi Chen “Observed versus latent features for knowledge base and text inference” (2015)."
      ],
      "text/plain": [
       "<IPython.core.display.HTML object>"
      ]
     },
     "metadata": {},
     "output_type": "display_data"
    }
   ],
   "source": [
    "fb15k237 = datasets.FB15k_237()\n",
    "display(HTML(fb15k237.description))\n",
    "fb15k237_graph, fb15k237_train, fb15k237_test, fb15k237_valid = fb15k237.load()"
   ]
  },
  {
   "cell_type": "code",
   "execution_count": 8,
   "metadata": {},
   "outputs": [
    {
     "name": "stdout",
     "output_type": "stream",
     "text": [
      "StellarDiGraph: Directed multigraph\n",
      " Nodes: 14541, Edges: 310116\n",
      "\n",
      " Node types:\n",
      "  default: [14541]\n",
      "    Features: none\n",
      "    Edge types: default-/american_football/football_team/current_roster./sports/sports_team_roster/position->default, default-/award/award_category/category_of->default, default-/award/award_category/disciplines_or_subjects->default, default-/award/award_category/nominees./award/award_nomination/nominated_for->default, default-/award/award_category/winners./award/award_honor/award_winner->default, ... (232 more)\n",
      "\n",
      " Edge types:\n",
      "    default-/award/award_nominee/award_nominations./award/award_nomination/award_nominee->default: [16391]\n",
      "        Weights: all 1 (default)\n",
      "        Features: none\n",
      "    default-/film/film/release_date_s./film/film_regional_release_date/film_release_region->default: [15568]\n",
      "        Weights: all 1 (default)\n",
      "        Features: none\n",
      "    default-/award/award_nominee/award_nominations./award/award_nomination/award->default: [14051]\n",
      "        Weights: all 1 (default)\n",
      "        Features: none\n",
      "    default-/people/person/profession->default: [13382]\n",
      "        Weights: all 1 (default)\n",
      "        Features: none\n",
      "    default-/award/award_category/nominees./award/award_nomination/nominated_for->default: [11069]\n",
      "        Weights: all 1 (default)\n",
      "        Features: none\n",
      "    default-/film/actor/film./film/performance/film->default: [11045]\n",
      "        Weights: all 1 (default)\n",
      "        Features: none\n",
      "    default-/film/film/genre->default: [8649]\n",
      "        Weights: all 1 (default)\n",
      "        Features: none\n",
      "    default-/award/award_winner/awards_won./award/award_honor/award_winner->default: [8491]\n",
      "        Weights: all 1 (default)\n",
      "        Features: none\n",
      "    default-/music/genre/artists->default: [7134]\n",
      "        Weights: all 1 (default)\n",
      "        Features: none\n",
      "    default-/award/award_nominee/award_nominations./award/award_nomination/nominated_for->default: [6483]\n",
      "        Weights: all 1 (default)\n",
      "        Features: none\n",
      "    default-/film/film/other_crew./film/film_crew_gig/film_crew_role->default: [6445]\n",
      "        Weights: all 1 (default)\n",
      "        Features: none\n",
      "    default-/award/award_category/winners./award/award_honor/award_winner->default: [6070]\n",
      "        Weights: all 1 (default)\n",
      "        Features: none\n",
      "    default-/location/location/contains->default: [5834]\n",
      "        Weights: all 1 (default)\n",
      "        Features: none\n",
      "    default-/people/person/nationality->default: [5097]\n",
      "        Weights: all 1 (default)\n",
      "        Features: none\n",
      "    default-/people/person/gender->default: [4530]\n",
      "        Weights: all 1 (default)\n",
      "        Features: none\n",
      "    default-/common/topic/webpage./common/webpage/category->default: [4364]\n",
      "        Weights: all 1 (default)\n",
      "        Features: none\n",
      "    default-/people/person/places_lived./people/place_lived/location->default: [4275]\n",
      "        Weights: all 1 (default)\n",
      "        Features: none\n",
      "    default-/music/performance_role/track_performances./music/track_contribution/role->default: [3887]\n",
      "        Weights: all 1 (default)\n",
      "        Features: none\n",
      "    default-/people/person/spouse_s./people/marriage/type_of_union->default: [3557]\n",
      "        Weights: all 1 (default)\n",
      "        Features: none\n",
      "    default-/sports/sports_position/players./sports/sports_team_roster/team->default: [3551]\n",
      "        Weights: all 1 (default)\n",
      "        Features: none\n",
      "    ... (217 more)\n"
     ]
    }
   ],
   "source": [
    "print(fb15k237_graph.info())"
   ]
  },
  {
   "cell_type": "markdown",
   "metadata": {},
   "source": [
    "### Train a model"
   ]
  },
  {
   "cell_type": "code",
   "execution_count": 11,
   "metadata": {},
   "outputs": [
    {
     "name": "stderr",
     "output_type": "stream",
     "text": [
      "/Users/wil9dw/.pyenv/versions/sg/lib/python3.6/site-packages/ipykernel/__main__.py:8: ExperimentalWarning: RotatE is experimental: demo and documentation is missing (see: https://github.com/stellargraph/stellargraph/issues/1549, https://github.com/stellargraph/stellargraph/issues/1550). It may be difficult to use and may have major changes at any time.\n"
     ]
    }
   ],
   "source": [
    "fb15k237_gen = KGTripleGenerator(\n",
    "    fb15k237_graph, batch_size=1024  # ~100 batches per epoch\n",
    ")\n",
    "\n",
    "fb15k237_rotate = RotatE(\n",
    "    fb15k237_gen,\n",
    "    embedding_dimension=embedding_dimension,\n",
    "    margin=9,\n",
    ")\n",
    "\n",
    "fb15k237_inp, fb15k237_out = fb15k237_rotate.in_out_tensors()\n",
    "\n",
    "fb15k237_model = Model(inputs=fb15k237_inp, outputs=fb15k237_out)\n",
    "fb15k237_model.compile(\n",
    "    optimizer=optimizers.Adam(lr=0.001),\n",
    "    loss=losses.BinaryCrossentropy(from_logits=True),\n",
    "    metrics=[metrics.BinaryAccuracy(threshold=0.0)],\n",
    ")"
   ]
  },
  {
   "cell_type": "code",
   "execution_count": 12,
   "metadata": {},
   "outputs": [],
   "source": [
    "fb15k237_train_gen = fb15k237_gen.flow(\n",
    "    fb15k237_train, negative_samples=negative_samples, shuffle=True\n",
    ")\n",
    "fb15k237_valid_gen = fb15k237_gen.flow(fb15k237_valid, negative_samples=negative_samples)"
   ]
  },
  {
   "cell_type": "code",
   "execution_count": 14,
   "metadata": {},
   "outputs": [
    {
     "name": "stdout",
     "output_type": "stream",
     "text": [
      "Epoch 1/20\n",
      "266/266 [==============================] - 107s 404ms/step - loss: 1.2206 - binary_accuracy: 0.3872 - val_loss: 0.4225 - val_binary_accuracy: 0.9204\n",
      "Epoch 2/20\n",
      "266/266 [==============================] - 109s 411ms/step - loss: 0.3065 - binary_accuracy: 0.9403 - val_loss: 0.2532 - val_binary_accuracy: 0.9414\n",
      "Epoch 3/20\n",
      "266/266 [==============================] - 108s 407ms/step - loss: 0.2344 - binary_accuracy: 0.9415 - val_loss: 0.2252 - val_binary_accuracy: 0.9414\n",
      "Epoch 4/20\n",
      "266/266 [==============================] - 110s 415ms/step - loss: 0.2161 - binary_accuracy: 0.9415 - val_loss: 0.2155 - val_binary_accuracy: 0.9414\n",
      "Epoch 5/20\n",
      "266/266 [==============================] - 111s 418ms/step - loss: 0.2070 - binary_accuracy: 0.9415 - val_loss: 0.2110 - val_binary_accuracy: 0.9414\n",
      "Epoch 6/20\n",
      "266/266 [==============================] - 110s 412ms/step - loss: 0.2012 - binary_accuracy: 0.9415 - val_loss: 0.2090 - val_binary_accuracy: 0.9414\n",
      "Epoch 7/20\n",
      "266/266 [==============================] - 111s 417ms/step - loss: 0.1967 - binary_accuracy: 0.9415 - val_loss: 0.2078 - val_binary_accuracy: 0.9414\n",
      "Epoch 8/20\n",
      "266/266 [==============================] - 109s 410ms/step - loss: 0.1924 - binary_accuracy: 0.9415 - val_loss: 0.2071 - val_binary_accuracy: 0.9414\n",
      "Epoch 9/20\n",
      "266/266 [==============================] - 109s 411ms/step - loss: 0.1878 - binary_accuracy: 0.9415 - val_loss: 0.2058 - val_binary_accuracy: 0.9414\n",
      "Epoch 10/20\n",
      "266/266 [==============================] - 110s 414ms/step - loss: 0.1826 - binary_accuracy: 0.9415 - val_loss: 0.2046 - val_binary_accuracy: 0.9414\n",
      "Epoch 11/20\n",
      "266/266 [==============================] - 111s 418ms/step - loss: 0.1767 - binary_accuracy: 0.9418 - val_loss: 0.2026 - val_binary_accuracy: 0.9414\n",
      "Epoch 12/20\n",
      "266/266 [==============================] - 111s 417ms/step - loss: 0.1701 - binary_accuracy: 0.9427 - val_loss: 0.1997 - val_binary_accuracy: 0.9414\n",
      "Epoch 13/20\n",
      "266/266 [==============================] - 112s 420ms/step - loss: 0.1628 - binary_accuracy: 0.9441 - val_loss: 0.1959 - val_binary_accuracy: 0.9414\n",
      "Epoch 14/20\n",
      "266/266 [==============================] - 114s 430ms/step - loss: 0.1552 - binary_accuracy: 0.9453 - val_loss: 0.1914 - val_binary_accuracy: 0.9413\n",
      "Epoch 15/20\n",
      "266/266 [==============================] - 113s 427ms/step - loss: 0.1475 - binary_accuracy: 0.9463 - val_loss: 0.1861 - val_binary_accuracy: 0.9414\n",
      "Epoch 16/20\n",
      "266/266 [==============================] - 113s 424ms/step - loss: 0.1398 - binary_accuracy: 0.9475 - val_loss: 0.1808 - val_binary_accuracy: 0.9417\n",
      "Epoch 17/20\n",
      "266/266 [==============================] - 112s 422ms/step - loss: 0.1325 - binary_accuracy: 0.9488 - val_loss: 0.1747 - val_binary_accuracy: 0.9419\n",
      "Epoch 18/20\n",
      "266/266 [==============================] - 113s 423ms/step - loss: 0.1255 - binary_accuracy: 0.9504 - val_loss: 0.1692 - val_binary_accuracy: 0.9424\n",
      "Epoch 19/20\n",
      "266/266 [==============================] - 117s 440ms/step - loss: 0.1190 - binary_accuracy: 0.9522 - val_loss: 0.1636 - val_binary_accuracy: 0.9430\n",
      "Epoch 20/20\n",
      "266/266 [==============================] - 126s 472ms/step - loss: 0.1131 - binary_accuracy: 0.9541 - val_loss: 0.1582 - val_binary_accuracy: 0.9440\n"
     ]
    }
   ],
   "source": [
    "fb15k237_es = callbacks.EarlyStopping(monitor=\"val_loss\", patience=10)\n",
    "fb15k237_history = fb15k237_model.fit(\n",
    "    fb15k237_train_gen, validation_data=fb15k237_valid_gen, epochs=20, callbacks=[fb15k237_es]\n",
    ")"
   ]
  },
  {
   "cell_type": "code",
   "execution_count": 50,
   "metadata": {},
   "outputs": [
    {
     "data": {
      "image/png": "[encoded data removed]",
      "text/plain": [
       "<Figure size 504x576 with 2 Axes>"
      ]
     },
     "metadata": {
      "needs_background": "light"
     },
     "output_type": "display_data"
    }
   ],
   "source": [
    "utils.plot_history(fb15k237_history)"
   ]
  },
  {
   "cell_type": "markdown",
   "metadata": {},
   "source": [
    "### Evaluate the model"
   ]
  },
  {
   "cell_type": "code",
   "execution_count": 15,
   "metadata": {},
   "outputs": [
    {
     "ename": "NameError",
     "evalue": "name 'fb15k237_complex' is not defined",
     "output_type": "error",
     "traceback": [
      "\u001b[0;31m---------------------------------------------------------------------------\u001b[0m",
      "\u001b[0;31mNameError\u001b[0m                                 Traceback (most recent call last)",
      "\u001b[0;32m<ipython-input-15-9f43b6ae283b>\u001b[0m in \u001b[0;36m<module>\u001b[0;34m\u001b[0m\n\u001b[0;32m----> 1\u001b[0;31m fb15k237_raw_ranks, fb15k237_filtered_ranks = fb15k237_complex.rank_edges_against_all_nodes(\n\u001b[0m\u001b[1;32m      2\u001b[0m     \u001b[0mfb15k237_gen\u001b[0m\u001b[0;34m.\u001b[0m\u001b[0mflow\u001b[0m\u001b[0;34m(\u001b[0m\u001b[0mfb15k237_test\u001b[0m\u001b[0;34m)\u001b[0m\u001b[0;34m,\u001b[0m \u001b[0mfb15k237_graph\u001b[0m\u001b[0;34m\u001b[0m\u001b[0;34m\u001b[0m\u001b[0m\n\u001b[1;32m      3\u001b[0m )\n",
      "\u001b[0;31mNameError\u001b[0m: name 'fb15k237_complex' is not defined"
     ]
    }
   ],
   "source": [
    "fb15k237_raw_ranks, fb15k237_filtered_ranks = fb15k237_complex.rank_edges_against_all_nodes(\n",
    "    fb15k237_gen.flow(fb15k237_test), fb15k237_graph\n",
    ")"
   ]
  },
  {
   "cell_type": "code",
   "execution_count": 16,
   "metadata": {},
   "outputs": [
    {
     "ename": "NameError",
     "evalue": "name 'fb15k237_raw_ranks' is not defined",
     "output_type": "error",
     "traceback": [
      "\u001b[0;31m---------------------------------------------------------------------------\u001b[0m",
      "\u001b[0;31mNameError\u001b[0m                                 Traceback (most recent call last)",
      "\u001b[0;32m<ipython-input-16-7b8deaf28c52>\u001b[0m in \u001b[0;36m<module>\u001b[0;34m\u001b[0m\n\u001b[0;32m----> 1\u001b[0;31m \u001b[0msummarise\u001b[0m\u001b[0;34m(\u001b[0m\u001b[0;34m{\u001b[0m\u001b[0;34m\"raw\"\u001b[0m\u001b[0;34m:\u001b[0m \u001b[0mfb15k237_raw_ranks\u001b[0m\u001b[0;34m,\u001b[0m \u001b[0;34m\"filtered\"\u001b[0m\u001b[0;34m:\u001b[0m \u001b[0mfb15k237_filtered_ranks\u001b[0m\u001b[0;34m}\u001b[0m\u001b[0;34m)\u001b[0m\u001b[0;34m\u001b[0m\u001b[0;34m\u001b[0m\u001b[0m\n\u001b[0m",
      "\u001b[0;31mNameError\u001b[0m: name 'fb15k237_raw_ranks' is not defined"
     ]
    }
   ],
   "source": [
    "summarise({\"raw\": fb15k237_raw_ranks, \"filtered\": fb15k237_filtered_ranks})"
   ]
  },
  {
   "cell_type": "markdown",
   "metadata": {},
   "source": [
    "For comparison, Table 5 in the paper gives the following results for FB15k-237:"
   ]
  },
  {
   "cell_type": "code",
   "execution_count": 29,
   "metadata": {},
   "outputs": [
    {
     "data": {
      "text/html": [
       "<div>\n",
       "<style scoped>\n",
       "    .dataframe tbody tr th:only-of-type {\n",
       "        vertical-align: middle;\n",
       "    }\n",
       "\n",
       "    .dataframe tbody tr th {\n",
       "        vertical-align: top;\n",
       "    }\n",
       "\n",
       "    .dataframe thead th {\n",
       "        text-align: right;\n",
       "    }\n",
       "</style>\n",
       "<table border=\"1\" class=\"dataframe\">\n",
       "  <thead>\n",
       "    <tr style=\"text-align: right;\">\n",
       "      <th></th>\n",
       "      <th>MR</th>\n",
       "      <th>MRR</th>\n",
       "      <th>hits at 1</th>\n",
       "      <th>hits at 3</th>\n",
       "      <th>hits at 10</th>\n",
       "    </tr>\n",
       "  </thead>\n",
       "  <tbody>\n",
       "    <tr>\n",
       "      <th>filtered</th>\n",
       "      <td>177</td>\n",
       "      <td>0.338</td>\n",
       "      <td>0.241</td>\n",
       "      <td>0.375</td>\n",
       "      <td>0.533</td>\n",
       "    </tr>\n",
       "  </tbody>\n",
       "</table>\n",
       "</div>"
      ],
      "text/plain": [
       "           MR    MRR  hits at 1  hits at 3  hits at 10\n",
       "filtered  177  0.338      0.241      0.375       0.533"
      ]
     },
     "execution_count": 29,
     "metadata": {},
     "output_type": "execute_result"
    }
   ],
   "source": [
    "results_as_dataframe(\n",
    "    {\"filtered\": (177, 0.338, 0.241, 0.375, 0.533)}\n",
    ")"
   ]
  },
  {
   "cell_type": "markdown",
   "metadata": {
    "nbsphinx": "hidden",
    "tags": [
     "CloudRunner"
    ]
   },
   "source": [
    "<table><tr><td>Run the latest release of this notebook:</td><td><a href=\"https://mybinder.org/v2/gh/stellargraph/stellargraph/master?urlpath=lab/tree/demos/link-prediction/complex-link-prediction.ipynb\" alt=\"Open In Binder\" target=\"_parent\"><img src=\"https://mybinder.org/badge_logo.svg\"/></a></td><td><a href=\"https://colab.research.google.com/github/stellargraph/stellargraph/blob/master/demos/link-prediction/complex-link-prediction.ipynb\" alt=\"Open In Colab\" target=\"_parent\"><img src=\"https://colab.research.google.com/assets/colab-badge.svg\"/></a></td></tr></table>"
   ]
  }
 ],
 "metadata": {
  "kernelspec": {
   "display_name": "sg",
   "language": "python",
   "name": "sg"
  },
  "language_info": {
   "codemirror_mode": {
    "name": "ipython",
    "version": 3
   },
   "file_extension": ".py",
   "mimetype": "text/x-python",
   "name": "python",
   "nbconvert_exporter": "python",
   "pygments_lexer": "ipython3",
   "version": "3.6.9"
  }
 },
 "nbformat": 4,
 "nbformat_minor": 4
}
